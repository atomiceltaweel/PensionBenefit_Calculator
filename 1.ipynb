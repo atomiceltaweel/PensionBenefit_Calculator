{
  "cells": [
    {
      "cell_type": "markdown",
      "metadata": {
        "id": "view-in-github",
        "colab_type": "text"
      },
      "source": [
        "<a href=\"https://colab.research.google.com/github/atomiceltaweel/PensionBenefit_Calculator/blob/master/1.ipynb\" target=\"_parent\"><img src=\"https://colab.research.google.com/assets/colab-badge.svg\" alt=\"Open In Colab\"/></a>"
      ]
    },
    {
      "cell_type": "code",
      "source": [
        "# https://www.openml.org/d/42876\n",
        "import os\n",
        "import pandas as pd\n",
        "\n",
        "# Workers Compensation dataset, see\n",
        "# https://www.openml.org/d/42876\n",
        "if not os.path.exists(\"workers_compensation.parquet\"):\n",
        "    (library(OpenML)\n",
        "    df_origin = getOMLDataSet(data.id=42876L)\n",
        "    df = pd.DataFrame(df_origin$data)\n",
        "    df.to_parquet(\"workers_compensation.parquet\"))\n",
        "else:\n",
        "    df = pd.read_parquet(\"workers_compensation.parquet\")\n",
        "```"
      ],
      "metadata": {
        "id": "N6uJnDXKmwyG",
        "outputId": "11284ff1-894a-4673-f333-067ad1104639",
        "colab": {
          "base_uri": "https://localhost:8080/",
          "height": 145
        }
      },
      "execution_count": 5,
      "outputs": [
        {
          "output_type": "error",
          "ename": "SyntaxError",
          "evalue": "ignored",
          "traceback": [
            "\u001b[0;36m  File \u001b[0;32m\"<ipython-input-5-ba002a9ed2f8>\"\u001b[0;36m, line \u001b[0;32m9\u001b[0m\n\u001b[0;31m    df_origin = getOMLDataSet(data.id=42876L)\u001b[0m\n\u001b[0m                                          ^\u001b[0m\n\u001b[0;31mSyntaxError\u001b[0m\u001b[0;31m:\u001b[0m invalid decimal literal\n"
          ]
        }
      ]
    },
    {
      "cell_type": "code",
      "source": [
        "from sklearn import ensemble\n",
        "from openml import tasks, flows, Runs\n",
        "\n",
        "task = tasks.get_task(3954)\n",
        "clf = ensemble.RandomForestClassifier()\n",
        "flow = flows.sklearn_to_flow(clf)\n",
        "run = runs.run_flow_on_task(task, flow)\n",
        "result = run.publish()\n"
      ],
      "metadata": {
        "id": "8sR5aBNznovr"
      },
      "execution_count": null,
      "outputs": []
    },
    {
      "cell_type": "code",
      "source": [
        "import openml\n",
        "import pandas as pd\n",
        "from openml.datasets import edit_dataset, fork_dataset, get_dataset"
      ],
      "metadata": {
        "id": "0E2jYMuPn_oB"
      },
      "execution_count": null,
      "outputs": []
    }
  ],
  "metadata": {
    "colab": {
      "name": "Overview of Colaboratory Features",
      "provenance": [],
      "include_colab_link": true
    },
    "kernelspec": {
      "display_name": "Python 3",
      "name": "python3"
    }
  },
  "nbformat": 4,
  "nbformat_minor": 0
}